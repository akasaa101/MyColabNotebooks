{
  "nbformat": 4,
  "nbformat_minor": 0,
  "metadata": {
    "colab": {
      "name": "mnist_dataset_0.9874.ipynb",
      "version": "0.3.2",
      "provenance": [],
      "collapsed_sections": [],
      "include_colab_link": true
    },
    "kernelspec": {
      "name": "python3",
      "display_name": "Python 3"
    }
  },
  "cells": [
    {
      "cell_type": "markdown",
      "metadata": {
        "id": "view-in-github",
        "colab_type": "text"
      },
      "source": [
        "<a href=\"https://colab.research.google.com/github/akasaa101/MyColabNotebooks/blob/master/mnist_dataset_0_9874.ipynb\" target=\"_parent\"><img src=\"https://colab.research.google.com/assets/colab-badge.svg\" alt=\"Open In Colab\"/></a>"
      ]
    },
    {
      "metadata": {
        "id": "9IErrKYBBQdT",
        "colab_type": "code",
        "colab": {}
      },
      "cell_type": "code",
      "source": [
        "from __future__ import print_function\n",
        "import keras\n",
        "from keras.datasets import mnist\n",
        "from keras.models import Sequential\n",
        "from keras.layers import Dense, Dropout, Flatten\n",
        "from keras.layers import Conv2D, MaxPooling2D\n",
        "from keras import backend as K"
      ],
      "execution_count": 0,
      "outputs": []
    },
    {
      "metadata": {
        "id": "pcBy5khQ8PC9",
        "colab_type": "code",
        "colab": {}
      },
      "cell_type": "code",
      "source": [
        "batch_size=128\n",
        "num_classes=10\n",
        "epoch=12"
      ],
      "execution_count": 0,
      "outputs": []
    },
    {
      "metadata": {
        "id": "eq4Z1o088XRL",
        "colab_type": "code",
        "outputId": "7cbf0e57-81a9-4978-ec80-c2b6149e7ac2",
        "colab": {
          "base_uri": "https://localhost:8080/",
          "height": 52
        }
      },
      "cell_type": "code",
      "source": [
        "#input image dimensions\n",
        "img_rows, img_cols=28,28\n",
        "\n",
        "#the data, split between train and test\n",
        "(x_train,y_train),(x_test,y_test)=mnist.load_data()\n",
        "\n"
      ],
      "execution_count": 0,
      "outputs": [
        {
          "output_type": "stream",
          "text": [
            "Downloading data from https://s3.amazonaws.com/img-datasets/mnist.npz\n",
            "11493376/11490434 [==============================] - 0s 0us/step\n"
          ],
          "name": "stdout"
        }
      ]
    },
    {
      "metadata": {
        "id": "cXGepaWI8z6L",
        "colab_type": "code",
        "colab": {}
      },
      "cell_type": "code",
      "source": [
        "if K.image_data_format() == 'channels_first':\n",
        "  x_train= x_train.reshape(x_train.shape[0],1,img_rows,img_cols)\n",
        "  x_test=x_test.reshape(x_test.shape[0],1,img_rows,img_cols)\n",
        "  input_shape = (1,img_rows,img_cols)\n",
        "else:\n",
        "  x_train=x_train.reshape(x_train.shape[0],img_rows,img_cols,1)\n",
        "  x_test=x_test.reshape(x_test.shape[0],img_rows,img_cols,1)\n",
        "  input_shape=(img_rows,img_cols,1)\n",
        "  \n"
      ],
      "execution_count": 0,
      "outputs": []
    },
    {
      "metadata": {
        "id": "bkQSbjlb92OY",
        "colab_type": "code",
        "outputId": "e560389e-bf5a-4c54-d957-d561913253d9",
        "colab": {
          "base_uri": "https://localhost:8080/",
          "height": 69
        }
      },
      "cell_type": "code",
      "source": [
        "x_train=x_train.astype('float32')\n",
        "x_test=x_test.astype('float32')\n",
        "x_train /=255\n",
        "x_test /=255\n",
        "print('x_train shape: ' ,x_train.shape)\n",
        "print(x_train.shape[0],' train samples')\n",
        "print(x_test.shape[0],' test samples')"
      ],
      "execution_count": 0,
      "outputs": [
        {
          "output_type": "stream",
          "text": [
            "x_train shape:  (60000, 28, 28, 1)\n",
            "60000  train samples\n",
            "10000  test samples\n"
          ],
          "name": "stdout"
        }
      ]
    },
    {
      "metadata": {
        "id": "0dFXn5O0-ltM",
        "colab_type": "code",
        "colab": {}
      },
      "cell_type": "code",
      "source": [
        "#convert class vectors to binary class matrices\n",
        "y_train = keras.utils.to_categorical(y_train,num_classes)\n",
        "y_test = keras.utils.to_categorical(y_test,num_classes)"
      ],
      "execution_count": 0,
      "outputs": []
    },
    {
      "metadata": {
        "id": "-oAD2Qmh-7Wy",
        "colab_type": "code",
        "outputId": "66c429ad-2226-457d-c458-fac3bc53ebe8",
        "colab": {
          "base_uri": "https://localhost:8080/",
          "height": 141
        }
      },
      "cell_type": "code",
      "source": [
        "model=Sequential()\n",
        "model.add(Conv2D(32,kernel_size=(3,3),activation='relu',input_shape=input_shape))\n",
        "model.add(MaxPooling2D(pool_size=(2,2)))\n",
        "model.add(Dropout(0.25))\n",
        "model.add(Flatten())\n",
        "model.add(Dense(128,activation='relu'))\n",
        "model.add(Dropout(0.5))\n",
        "model.add(Dense(num_classes,activation='softmax'))\n"
      ],
      "execution_count": 0,
      "outputs": [
        {
          "output_type": "stream",
          "text": [
            "WARNING:tensorflow:From /usr/local/lib/python3.6/dist-packages/tensorflow/python/framework/op_def_library.py:263: colocate_with (from tensorflow.python.framework.ops) is deprecated and will be removed in a future version.\n",
            "Instructions for updating:\n",
            "Colocations handled automatically by placer.\n",
            "WARNING:tensorflow:From /usr/local/lib/python3.6/dist-packages/keras/backend/tensorflow_backend.py:3445: calling dropout (from tensorflow.python.ops.nn_ops) with keep_prob is deprecated and will be removed in a future version.\n",
            "Instructions for updating:\n",
            "Please use `rate` instead of `keep_prob`. Rate should be set to `rate = 1 - keep_prob`.\n"
          ],
          "name": "stdout"
        }
      ]
    },
    {
      "metadata": {
        "id": "Fkv4dVkJ_1k3",
        "colab_type": "code",
        "colab": {}
      },
      "cell_type": "code",
      "source": [
        "model.compile(loss=keras.losses.categorical_crossentropy,\n",
        "             optimizer=keras.optimizers.Adadelta(),\n",
        "             metrics=['accuracy'])"
      ],
      "execution_count": 0,
      "outputs": []
    },
    {
      "metadata": {
        "id": "kggpjwuEAK8x",
        "colab_type": "code",
        "outputId": "860d38c7-6d9f-44d4-b083-d6a0c0658541",
        "colab": {
          "base_uri": "https://localhost:8080/",
          "height": 541
        }
      },
      "cell_type": "code",
      "source": [
        "model.fit(x_train,y_train,\n",
        "         batch_size=batch_size,\n",
        "         epochs=12,\n",
        "         verbose=1,\n",
        "         validation_data=(x_test,y_test))"
      ],
      "execution_count": 0,
      "outputs": [
        {
          "output_type": "stream",
          "text": [
            "WARNING:tensorflow:From /usr/local/lib/python3.6/dist-packages/tensorflow/python/ops/math_ops.py:3066: to_int32 (from tensorflow.python.ops.math_ops) is deprecated and will be removed in a future version.\n",
            "Instructions for updating:\n",
            "Use tf.cast instead.\n",
            "Train on 60000 samples, validate on 10000 samples\n",
            "Epoch 1/12\n",
            "60000/60000 [==============================] - 41s 689us/step - loss: 0.3540 - acc: 0.8918 - val_loss: 0.1042 - val_acc: 0.9667\n",
            "Epoch 2/12\n",
            "60000/60000 [==============================] - 40s 671us/step - loss: 0.1447 - acc: 0.9579 - val_loss: 0.0725 - val_acc: 0.9760\n",
            "Epoch 3/12\n",
            "60000/60000 [==============================] - 40s 672us/step - loss: 0.1101 - acc: 0.9676 - val_loss: 0.0591 - val_acc: 0.9801\n",
            "Epoch 4/12\n",
            "60000/60000 [==============================] - 40s 671us/step - loss: 0.0915 - acc: 0.9728 - val_loss: 0.0550 - val_acc: 0.9812\n",
            "Epoch 5/12\n",
            "60000/60000 [==============================] - 40s 674us/step - loss: 0.0816 - acc: 0.9754 - val_loss: 0.0489 - val_acc: 0.9829\n",
            "Epoch 6/12\n",
            "60000/60000 [==============================] - 41s 678us/step - loss: 0.0727 - acc: 0.9776 - val_loss: 0.0478 - val_acc: 0.9834\n",
            "Epoch 7/12\n",
            "60000/60000 [==============================] - 40s 670us/step - loss: 0.0664 - acc: 0.9800 - val_loss: 0.0423 - val_acc: 0.9846\n",
            "Epoch 8/12\n",
            "60000/60000 [==============================] - 40s 670us/step - loss: 0.0632 - acc: 0.9803 - val_loss: 0.0413 - val_acc: 0.9859\n",
            "Epoch 9/12\n",
            "60000/60000 [==============================] - 40s 669us/step - loss: 0.0591 - acc: 0.9820 - val_loss: 0.0395 - val_acc: 0.9856\n",
            "Epoch 10/12\n",
            "60000/60000 [==============================] - 40s 669us/step - loss: 0.0544 - acc: 0.9836 - val_loss: 0.0407 - val_acc: 0.9853\n",
            "Epoch 11/12\n",
            "60000/60000 [==============================] - 40s 674us/step - loss: 0.0501 - acc: 0.9847 - val_loss: 0.0381 - val_acc: 0.9874\n",
            "Epoch 12/12\n",
            "60000/60000 [==============================] - 40s 672us/step - loss: 0.0500 - acc: 0.9846 - val_loss: 0.0383 - val_acc: 0.9874\n"
          ],
          "name": "stdout"
        },
        {
          "output_type": "execute_result",
          "data": {
            "text/plain": [
              "<keras.callbacks.History at 0x7f19ef9b25f8>"
            ]
          },
          "metadata": {
            "tags": []
          },
          "execution_count": 14
        }
      ]
    },
    {
      "metadata": {
        "id": "ewUDeI8MCk7e",
        "colab_type": "code",
        "colab": {}
      },
      "cell_type": "code",
      "source": [
        "score=model.evaluate(x_test,y_test,verbose=0)\n"
      ],
      "execution_count": 0,
      "outputs": []
    },
    {
      "metadata": {
        "id": "q8sqnG5tCup9",
        "colab_type": "code",
        "outputId": "b434bc7a-ebe4-4fff-9f32-3dceb1d84e35",
        "colab": {
          "base_uri": "https://localhost:8080/",
          "height": 52
        }
      },
      "cell_type": "code",
      "source": [
        "print('Test loss: ', score[0])\n",
        "print('Test accuracy: ', score[1])"
      ],
      "execution_count": 0,
      "outputs": [
        {
          "output_type": "stream",
          "text": [
            "Test loss:  0.038260184734230276\n",
            "Test accuracy:  0.9874\n"
          ],
          "name": "stdout"
        }
      ]
    }
  ]
}