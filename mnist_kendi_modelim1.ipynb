{
  "nbformat": 4,
  "nbformat_minor": 0,
  "metadata": {
    "colab": {
      "name": "mnist_kendi_modelim1.ipynb",
      "version": "0.3.2",
      "provenance": [],
      "collapsed_sections": [],
      "include_colab_link": true
    },
    "kernelspec": {
      "name": "python3",
      "display_name": "Python 3"
    }
  },
  "cells": [
    {
      "cell_type": "markdown",
      "metadata": {
        "id": "view-in-github",
        "colab_type": "text"
      },
      "source": [
        "<a href=\"https://colab.research.google.com/github/akasaa101/MyColabNotebooks/blob/master/mnist_kendi_modelim1.ipynb\" target=\"_parent\"><img src=\"https://colab.research.google.com/assets/colab-badge.svg\" alt=\"Open In Colab\"/></a>"
      ]
    },
    {
      "metadata": {
        "id": "mIQKcvKbDKsg",
        "colab_type": "code",
        "colab": {}
      },
      "cell_type": "code",
      "source": [
        "from keras.datasets import mnist\n",
        "#mnist data setini indirip eğitim datası(train) ve test datası olarak ayırıyoruz\n",
        "(X_train, y_train),(X_test,y_test)=mnist.load_data()\n"
      ],
      "execution_count": 0,
      "outputs": []
    },
    {
      "metadata": {
        "id": "2ZCxdbAOHa2w",
        "colab_type": "code",
        "colab": {}
      },
      "cell_type": "code",
      "source": [
        "#dataset de ki ilk resmi yazdırıyoruz\n",
        "import matplotlib.pyplot as plt\n",
        "\n",
        "plt.imshow(X_train[0])"
      ],
      "execution_count": 0,
      "outputs": []
    },
    {
      "metadata": {
        "id": "pM9eJcsAIDX_",
        "colab_type": "code",
        "outputId": "af254195-4b93-412e-dfb7-5f82ed76f210",
        "colab": {
          "base_uri": "https://localhost:8080/",
          "height": 34
        }
      },
      "cell_type": "code",
      "source": [
        "#fotoğrafın shape ini kontrol ediyoruz\n",
        "X_train[0].shape"
      ],
      "execution_count": 0,
      "outputs": [
        {
          "output_type": "execute_result",
          "data": {
            "text/plain": [
              "(28, 28)"
            ]
          },
          "metadata": {
            "tags": []
          },
          "execution_count": 11
        }
      ]
    },
    {
      "metadata": {
        "id": "YiqLAyOII3rw",
        "colab_type": "code",
        "colab": {}
      },
      "cell_type": "code",
      "source": [
        "#modeli fitleştirmek için datayı reshape yapmamız gerekiyor\n",
        "X_train=X_train.reshape(60000,28,28,1)\n",
        "X_test=X_test.reshape(10000,28,28,1)"
      ],
      "execution_count": 0,
      "outputs": []
    },
    {
      "metadata": {
        "id": "lPJ-rOkaLAvh",
        "colab_type": "code",
        "outputId": "64292ae6-e91c-431e-b020-de523b364cd4",
        "colab": {
          "base_uri": "https://localhost:8080/",
          "height": 34
        }
      },
      "cell_type": "code",
      "source": [
        "y_train = to_categorical(y_train)\n",
        "y_test = to_categorical(y_test)\n",
        "\n",
        "y_train[0]"
      ],
      "execution_count": 0,
      "outputs": [
        {
          "output_type": "execute_result",
          "data": {
            "text/plain": [
              "array([0., 0., 0., 0., 0., 1., 0., 0., 0., 0.], dtype=float32)"
            ]
          },
          "metadata": {
            "tags": []
          },
          "execution_count": 25
        }
      ]
    },
    {
      "metadata": {
        "id": "pJJHv9GkLarK",
        "colab_type": "code",
        "colab": {}
      },
      "cell_type": "code",
      "source": [
        "#Modeli oluşturuyoruz.\n",
        "from keras.models import Sequential\n",
        "from keras.layers import Dense,Conv2D, Flatten\n",
        "\n",
        "model=Sequential()\n",
        "\n",
        "\n",
        "model.add(Conv2D(64,kernel_size=3,activation='relu',input_shape=(28,28,1)))\n",
        "model.add(Conv2D(32,kernel_size=3,activation='relu'))\n",
        "model.add(Flatten())\n",
        "model.add(Dense(10,activation='softmax'))\n",
        "\n",
        "#Model türümüzü sequental yani sıralı olarak belirledik.\n",
        "#Sequental model oluşturmanın en kolay yoludur\n",
        "#Modelimizi katman katman oluşturmamıza olanak sağlar\n",
        "#Modelimize katmanları eklemek için add() fonksiyonunu kullandık\n",
        "\n",
        "#ilk iki katmanımız Conv2D katman. bu evşirimli katmanlar 2 boyutlu matrisimize input imagesi mizi alır (mı acaba?xD)\n",
        "#ilk katmanda 64 node var ikinci katmanda 32 node var bu numaralar daha yüksek veya alçak olabilir. 64 ve 32 bizde çalışacaktır.\n",
        "#Kernel(çekirdek) size 3 dedik. bu da evşirimli matriximmizin 3x3 boyutunda demek. \n",
        "#Activaston fonksiyonu Cnn için biz 2 sine relu kullandır. relunun iyi olduğu kanıtlanmıştır. ama araştır dany bunu.\n",
        "#ilk katmanımız ayrıca boyut alıyor..\n",
        "#ilk katmanımız aynı zamanda bir girdi şeklinde(inputsape). burada ki 1 greyscale(gri tonlaması) içindir.\n",
        "\n",
        "#Conv2D katmanı ile Dense katmanımız vardır. Bu iki katmanın arasında yassılaştırma geçiş işlemlerini görür.\n",
        "\n",
        "#Dense bizim çıkış katmanımızdır (output). Dense birçok nöral ağ durumunda standart kayman olarak kullanılabilr.\n",
        "#bizim possible 10 outputumuz olduğu için 10 tane output node u belirttik\n",
        "#aktivasyonumuzu softmax melirledik. Bu çıktıyı 1 e toplar ve çıktı olasılık olarak yorumlanabilir. Daha sonra model en yüksek olasılığa sahip olana bakarak tahminde bulunur.\n"
      ],
      "execution_count": 0,
      "outputs": []
    },
    {
      "metadata": {
        "id": "fczgxWYPQQDD",
        "colab_type": "code",
        "colab": {}
      },
      "cell_type": "code",
      "source": [
        "#modeli model performansı ve modelin doğruluğunu kullanmak için compile ediyoruz?\n",
        "\n",
        "model.compile(optimizer='adam',loss='categorical_crossentropy',metrics=['accuracy'])\n",
        "#optimizer için adam ı kullandık. Bunu araştır\n",
        "#leraning rate diye birşeye etki eder bu adam onu da bak\n",
        "#loss da ki categorical_crossentropy classification için yaygın kullanımdır.. Düşük bir skor performansı arttırabilr.\n",
        "#işlerim yorumlanmasını kolaylaştırmak için modeli eğittiğimizde doğrulama setinde i doğruluk puanını kullanacağız\n"
      ],
      "execution_count": 0,
      "outputs": []
    },
    {
      "metadata": {
        "id": "tDSeKfqzRjf7",
        "colab_type": "code",
        "outputId": "c20c4683-37f2-48e8-973e-9975bfec11d0",
        "colab": {
          "base_uri": "https://localhost:8080/",
          "height": 228
        }
      },
      "cell_type": "code",
      "source": [
        "#Veeeee oluşturduğumuz modeliii artıkkk eğitiyoruzzz\n",
        "\n",
        "#epoch sayısı modelimiz ne kadar döngü yapacağını gösterir. ne kadar çok olursa model o kadar çok gelişebilir\n",
        "#ancak bir noktadan sonra model gelişimini durduracaktır.\n",
        "\n",
        "\n",
        "model.fit(X_train,y_train, validation_data=(X_test,y_test),epochs=3)"
      ],
      "execution_count": 0,
      "outputs": [
        {
          "output_type": "stream",
          "text": [
            "WARNING:tensorflow:From /usr/local/lib/python3.6/dist-packages/tensorflow/python/ops/math_ops.py:3066: to_int32 (from tensorflow.python.ops.math_ops) is deprecated and will be removed in a future version.\n",
            "Instructions for updating:\n",
            "Use tf.cast instead.\n",
            "Train on 60000 samples, validate on 10000 samples\n",
            "Epoch 1/3\n",
            "60000/60000 [==============================] - 198s 3ms/step - loss: 14.3325 - acc: 0.1106 - val_loss: 14.4612 - val_acc: 0.1028\n",
            "Epoch 2/3\n",
            "60000/60000 [==============================] - 195s 3ms/step - loss: 14.4351 - acc: 0.1044 - val_loss: 14.4612 - val_acc: 0.1028\n",
            "Epoch 3/3\n",
            "60000/60000 [==============================] - 193s 3ms/step - loss: 14.4351 - acc: 0.1044 - val_loss: 14.4612 - val_acc: 0.1028\n"
          ],
          "name": "stdout"
        },
        {
          "output_type": "execute_result",
          "data": {
            "text/plain": [
              "<keras.callbacks.History at 0x7f1f60441ef0>"
            ]
          },
          "metadata": {
            "tags": []
          },
          "execution_count": 39
        }
      ]
    },
    {
      "metadata": {
        "id": "06YiQSHFY1li",
        "colab_type": "code",
        "outputId": "4969be01-4295-4b9b-d623-3db3ab38a98a",
        "colab": {
          "base_uri": "https://localhost:8080/",
          "height": 86
        }
      },
      "cell_type": "code",
      "source": [
        "#şimdi modelimizi test ediyoruzzz.. olmadı ama olsun hiç olmazsa anladık xD\n",
        "model.predict(X_test[:4])\n"
      ],
      "execution_count": 0,
      "outputs": [
        {
          "output_type": "execute_result",
          "data": {
            "text/plain": [
              "array([[0., 0., 0., 0., 0., 0., 0., 1., 0., 0.],\n",
              "       [0., 0., 0., 0., 0., 0., 0., 1., 0., 0.],\n",
              "       [0., 0., 0., 0., 0., 0., 0., 1., 0., 0.],\n",
              "       [0., 0., 0., 0., 0., 0., 0., 1., 0., 0.]], dtype=float32)"
            ]
          },
          "metadata": {
            "tags": []
          },
          "execution_count": 40
        }
      ]
    },
    {
      "metadata": {
        "id": "nLdcbUbvZKn7",
        "colab_type": "code",
        "outputId": "63c3f7ff-d344-4b58-8de3-76eef94b234d",
        "colab": {
          "base_uri": "https://localhost:8080/",
          "height": 86
        }
      },
      "cell_type": "code",
      "source": [
        "y_test[:4]"
      ],
      "execution_count": 0,
      "outputs": [
        {
          "output_type": "execute_result",
          "data": {
            "text/plain": [
              "array([[0., 0., 0., 0., 0., 0., 0., 1., 0., 0.],\n",
              "       [0., 0., 1., 0., 0., 0., 0., 0., 0., 0.],\n",
              "       [0., 1., 0., 0., 0., 0., 0., 0., 0., 0.],\n",
              "       [1., 0., 0., 0., 0., 0., 0., 0., 0., 0.]], dtype=float32)"
            ]
          },
          "metadata": {
            "tags": []
          },
          "execution_count": 41
        }
      ]
    }
  ]
}